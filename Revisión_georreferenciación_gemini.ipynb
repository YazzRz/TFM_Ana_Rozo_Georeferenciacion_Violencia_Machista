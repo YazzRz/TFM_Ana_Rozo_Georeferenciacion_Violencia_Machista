{
  "nbformat": 4,
  "nbformat_minor": 0,
  "metadata": {
    "colab": {
      "provenance": [],
      "authorship_tag": "ABX9TyOGczFGxpq8OAYKunHdGBqk",
      "include_colab_link": true
    },
    "kernelspec": {
      "name": "python3",
      "display_name": "Python 3"
    },
    "language_info": {
      "name": "python"
    }
  },
  "cells": [
    {
      "cell_type": "markdown",
      "metadata": {
        "id": "view-in-github",
        "colab_type": "text"
      },
      "source": [
        "<a href=\"https://colab.research.google.com/github/YazzRz/TFM_Ana_Rozo_Georeferenciacion_Violencia_Machista/blob/main/Revisi%C3%B3n_georreferenciaci%C3%B3n_gemini.ipynb\" target=\"_parent\"><img src=\"https://colab.research.google.com/assets/colab-badge.svg\" alt=\"Open In Colab\"/></a>"
      ]
    },
    {
      "cell_type": "code",
      "source": [
        "!pip install --upgrade google-cloud-aiplatform google-cloud-bigquery panda"
      ],
      "metadata": {
        "colab": {
          "base_uri": "https://localhost:8080/",
          "height": 1000
        },
        "id": "ZANbu0GdmeRF",
        "outputId": "aa0258cf-2952-45eb-e07f-4af6087f416d"
      },
      "execution_count": 2,
      "outputs": [
        {
          "output_type": "stream",
          "name": "stdout",
          "text": [
            "Requirement already satisfied: google-cloud-aiplatform in /usr/local/lib/python3.12/dist-packages (1.118.0)\n",
            "Collecting google-cloud-aiplatform\n",
            "  Downloading google_cloud_aiplatform-1.120.0-py2.py3-none-any.whl.metadata (43 kB)\n",
            "\u001b[2K     \u001b[90m━━━━━━━━━━━━━━━━━━━━━━━━━━━━━━━━━━━━━━━━\u001b[0m \u001b[32m43.8/43.8 kB\u001b[0m \u001b[31m1.8 MB/s\u001b[0m eta \u001b[36m0:00:00\u001b[0m\n",
            "\u001b[?25hRequirement already satisfied: google-cloud-bigquery in /usr/local/lib/python3.12/dist-packages (3.38.0)\n",
            "Collecting panda\n",
            "  Downloading panda-0.3.1.tar.gz (5.8 kB)\n",
            "  Preparing metadata (setup.py) ... \u001b[?25l\u001b[?25hdone\n",
            "Requirement already satisfied: google-api-core!=2.0.*,!=2.1.*,!=2.2.*,!=2.3.*,!=2.4.*,!=2.5.*,!=2.6.*,!=2.7.*,<3.0.0,>=1.34.1 in /usr/local/lib/python3.12/dist-packages (from google-api-core[grpc]!=2.0.*,!=2.1.*,!=2.2.*,!=2.3.*,!=2.4.*,!=2.5.*,!=2.6.*,!=2.7.*,<3.0.0,>=1.34.1->google-cloud-aiplatform) (2.25.1)\n",
            "Requirement already satisfied: google-auth<3.0.0,>=2.14.1 in /usr/local/lib/python3.12/dist-packages (from google-cloud-aiplatform) (2.38.0)\n",
            "Requirement already satisfied: proto-plus<2.0.0,>=1.22.3 in /usr/local/lib/python3.12/dist-packages (from google-cloud-aiplatform) (1.26.1)\n",
            "Requirement already satisfied: protobuf!=4.21.0,!=4.21.1,!=4.21.2,!=4.21.3,!=4.21.4,!=4.21.5,<7.0.0,>=3.20.2 in /usr/local/lib/python3.12/dist-packages (from google-cloud-aiplatform) (5.29.5)\n",
            "Requirement already satisfied: packaging>=14.3 in /usr/local/lib/python3.12/dist-packages (from google-cloud-aiplatform) (25.0)\n",
            "Requirement already satisfied: google-cloud-storage<3.0.0,>=1.32.0 in /usr/local/lib/python3.12/dist-packages (from google-cloud-aiplatform) (2.19.0)\n",
            "Requirement already satisfied: google-cloud-resource-manager<3.0.0,>=1.3.3 in /usr/local/lib/python3.12/dist-packages (from google-cloud-aiplatform) (1.14.2)\n",
            "Requirement already satisfied: shapely<3.0.0 in /usr/local/lib/python3.12/dist-packages (from google-cloud-aiplatform) (2.1.2)\n",
            "Requirement already satisfied: google-genai<2.0.0,>=1.37.0 in /usr/local/lib/python3.12/dist-packages (from google-cloud-aiplatform) (1.39.1)\n",
            "Requirement already satisfied: pydantic<3 in /usr/local/lib/python3.12/dist-packages (from google-cloud-aiplatform) (2.11.9)\n",
            "Requirement already satisfied: typing_extensions in /usr/local/lib/python3.12/dist-packages (from google-cloud-aiplatform) (4.15.0)\n",
            "Requirement already satisfied: docstring_parser<1 in /usr/local/lib/python3.12/dist-packages (from google-cloud-aiplatform) (0.17.0)\n",
            "Requirement already satisfied: google-cloud-core<3.0.0,>=2.4.1 in /usr/local/lib/python3.12/dist-packages (from google-cloud-bigquery) (2.4.3)\n",
            "Requirement already satisfied: google-resumable-media<3.0.0,>=2.0.0 in /usr/local/lib/python3.12/dist-packages (from google-cloud-bigquery) (2.7.2)\n",
            "Requirement already satisfied: python-dateutil<3.0.0,>=2.8.2 in /usr/local/lib/python3.12/dist-packages (from google-cloud-bigquery) (2.9.0.post0)\n",
            "Requirement already satisfied: requests<3.0.0,>=2.21.0 in /usr/local/lib/python3.12/dist-packages (from google-cloud-bigquery) (2.32.4)\n",
            "Requirement already satisfied: setuptools in /usr/local/lib/python3.12/dist-packages (from panda) (75.2.0)\n",
            "Requirement already satisfied: googleapis-common-protos<2.0.0,>=1.56.2 in /usr/local/lib/python3.12/dist-packages (from google-api-core!=2.0.*,!=2.1.*,!=2.2.*,!=2.3.*,!=2.4.*,!=2.5.*,!=2.6.*,!=2.7.*,<3.0.0,>=1.34.1->google-api-core[grpc]!=2.0.*,!=2.1.*,!=2.2.*,!=2.3.*,!=2.4.*,!=2.5.*,!=2.6.*,!=2.7.*,<3.0.0,>=1.34.1->google-cloud-aiplatform) (1.70.0)\n",
            "Requirement already satisfied: grpcio<2.0.0,>=1.33.2 in /usr/local/lib/python3.12/dist-packages (from google-api-core[grpc]!=2.0.*,!=2.1.*,!=2.2.*,!=2.3.*,!=2.4.*,!=2.5.*,!=2.6.*,!=2.7.*,<3.0.0,>=1.34.1->google-cloud-aiplatform) (1.75.1)\n",
            "Requirement already satisfied: grpcio-status<2.0.0,>=1.33.2 in /usr/local/lib/python3.12/dist-packages (from google-api-core[grpc]!=2.0.*,!=2.1.*,!=2.2.*,!=2.3.*,!=2.4.*,!=2.5.*,!=2.6.*,!=2.7.*,<3.0.0,>=1.34.1->google-cloud-aiplatform) (1.71.2)\n",
            "Requirement already satisfied: cachetools<6.0,>=2.0.0 in /usr/local/lib/python3.12/dist-packages (from google-auth<3.0.0,>=2.14.1->google-cloud-aiplatform) (5.5.2)\n",
            "Requirement already satisfied: pyasn1-modules>=0.2.1 in /usr/local/lib/python3.12/dist-packages (from google-auth<3.0.0,>=2.14.1->google-cloud-aiplatform) (0.4.2)\n",
            "Requirement already satisfied: rsa<5,>=3.1.4 in /usr/local/lib/python3.12/dist-packages (from google-auth<3.0.0,>=2.14.1->google-cloud-aiplatform) (4.9.1)\n",
            "Requirement already satisfied: grpc-google-iam-v1<1.0.0,>=0.14.0 in /usr/local/lib/python3.12/dist-packages (from google-cloud-resource-manager<3.0.0,>=1.3.3->google-cloud-aiplatform) (0.14.2)\n",
            "Requirement already satisfied: google-crc32c<2.0dev,>=1.0 in /usr/local/lib/python3.12/dist-packages (from google-cloud-storage<3.0.0,>=1.32.0->google-cloud-aiplatform) (1.7.1)\n",
            "Requirement already satisfied: anyio<5.0.0,>=4.8.0 in /usr/local/lib/python3.12/dist-packages (from google-genai<2.0.0,>=1.37.0->google-cloud-aiplatform) (4.11.0)\n",
            "Requirement already satisfied: httpx<1.0.0,>=0.28.1 in /usr/local/lib/python3.12/dist-packages (from google-genai<2.0.0,>=1.37.0->google-cloud-aiplatform) (0.28.1)\n",
            "Requirement already satisfied: tenacity<9.2.0,>=8.2.3 in /usr/local/lib/python3.12/dist-packages (from google-genai<2.0.0,>=1.37.0->google-cloud-aiplatform) (8.5.0)\n",
            "Requirement already satisfied: websockets<15.1.0,>=13.0.0 in /usr/local/lib/python3.12/dist-packages (from google-genai<2.0.0,>=1.37.0->google-cloud-aiplatform) (15.0.1)\n",
            "Requirement already satisfied: annotated-types>=0.6.0 in /usr/local/lib/python3.12/dist-packages (from pydantic<3->google-cloud-aiplatform) (0.7.0)\n",
            "Requirement already satisfied: pydantic-core==2.33.2 in /usr/local/lib/python3.12/dist-packages (from pydantic<3->google-cloud-aiplatform) (2.33.2)\n",
            "Requirement already satisfied: typing-inspection>=0.4.0 in /usr/local/lib/python3.12/dist-packages (from pydantic<3->google-cloud-aiplatform) (0.4.2)\n",
            "Requirement already satisfied: six>=1.5 in /usr/local/lib/python3.12/dist-packages (from python-dateutil<3.0.0,>=2.8.2->google-cloud-bigquery) (1.17.0)\n",
            "Requirement already satisfied: charset_normalizer<4,>=2 in /usr/local/lib/python3.12/dist-packages (from requests<3.0.0,>=2.21.0->google-cloud-bigquery) (3.4.3)\n",
            "Requirement already satisfied: idna<4,>=2.5 in /usr/local/lib/python3.12/dist-packages (from requests<3.0.0,>=2.21.0->google-cloud-bigquery) (3.10)\n",
            "Requirement already satisfied: urllib3<3,>=1.21.1 in /usr/local/lib/python3.12/dist-packages (from requests<3.0.0,>=2.21.0->google-cloud-bigquery) (2.5.0)\n",
            "Requirement already satisfied: certifi>=2017.4.17 in /usr/local/lib/python3.12/dist-packages (from requests<3.0.0,>=2.21.0->google-cloud-bigquery) (2025.8.3)\n",
            "Requirement already satisfied: numpy>=1.21 in /usr/local/lib/python3.12/dist-packages (from shapely<3.0.0->google-cloud-aiplatform) (2.0.2)\n",
            "Requirement already satisfied: sniffio>=1.1 in /usr/local/lib/python3.12/dist-packages (from anyio<5.0.0,>=4.8.0->google-genai<2.0.0,>=1.37.0->google-cloud-aiplatform) (1.3.1)\n",
            "Requirement already satisfied: httpcore==1.* in /usr/local/lib/python3.12/dist-packages (from httpx<1.0.0,>=0.28.1->google-genai<2.0.0,>=1.37.0->google-cloud-aiplatform) (1.0.9)\n",
            "Requirement already satisfied: h11>=0.16 in /usr/local/lib/python3.12/dist-packages (from httpcore==1.*->httpx<1.0.0,>=0.28.1->google-genai<2.0.0,>=1.37.0->google-cloud-aiplatform) (0.16.0)\n",
            "Requirement already satisfied: pyasn1<0.7.0,>=0.6.1 in /usr/local/lib/python3.12/dist-packages (from pyasn1-modules>=0.2.1->google-auth<3.0.0,>=2.14.1->google-cloud-aiplatform) (0.6.1)\n",
            "Downloading google_cloud_aiplatform-1.120.0-py2.py3-none-any.whl (8.0 MB)\n",
            "\u001b[2K   \u001b[90m━━━━━━━━━━━━━━━━━━━━━━━━━━━━━━━━━━━━━━━━\u001b[0m \u001b[32m8.0/8.0 MB\u001b[0m \u001b[31m59.3 MB/s\u001b[0m eta \u001b[36m0:00:00\u001b[0m\n",
            "\u001b[?25hBuilding wheels for collected packages: panda\n",
            "  Building wheel for panda (setup.py) ... \u001b[?25l\u001b[?25hdone\n",
            "  Created wheel for panda: filename=panda-0.3.1-py3-none-any.whl size=7239 sha256=356ff76e75ce02dd65bd936fb31c2ed0eba3bba3787b150d899ffa255fad8c0e\n",
            "  Stored in directory: /root/.cache/pip/wheels/98/41/5b/6ca54e0b6a35e1b7248c12f56fcb753dfb7717fefaa0fb45f5\n",
            "Successfully built panda\n",
            "Installing collected packages: panda, google-cloud-aiplatform\n",
            "  Attempting uninstall: google-cloud-aiplatform\n",
            "    Found existing installation: google-cloud-aiplatform 1.118.0\n",
            "    Uninstalling google-cloud-aiplatform-1.118.0:\n",
            "      Successfully uninstalled google-cloud-aiplatform-1.118.0\n",
            "Successfully installed google-cloud-aiplatform-1.120.0 panda-0.3.1\n"
          ]
        },
        {
          "output_type": "display_data",
          "data": {
            "application/vnd.colab-display-data+json": {
              "pip_warning": {
                "packages": [
                  "google"
                ]
              },
              "id": "847bee71ce214070b840ae9db1b54d0e"
            }
          },
          "metadata": {}
        }
      ]
    },
    {
      "cell_type": "code",
      "source": [
        "from vertexai import init\n",
        "from vertexai.generative_models import GenerativeModel\n",
        "from google.cloud import bigquery\n",
        "import pandas as pd\n"
      ],
      "metadata": {
        "id": "pjlTjiNYmfjD"
      },
      "execution_count": 1,
      "outputs": []
    },
    {
      "cell_type": "code",
      "source": [
        "# Inicializar Vertex AI y BigQuery\n",
        "init(project=\"apt-arcana-472403-u5\", location=\"us-central1\")\n",
        "bq = bigquery.Client(project=\"apt-arcana-472403-u5\")\n",
        "\n",
        "# Cargar el modelo de Gemini\n",
        "model = GenerativeModel(\"gemini-1.5-pro\")\n"
      ],
      "metadata": {
        "colab": {
          "base_uri": "https://localhost:8080/"
        },
        "id": "Cg07ZPbPmwZ8",
        "outputId": "de6963a0-a238-42c1-df1d-ba6544ca4ef7"
      },
      "execution_count": 2,
      "outputs": [
        {
          "output_type": "stream",
          "name": "stderr",
          "text": [
            "/usr/local/lib/python3.12/dist-packages/vertexai/generative_models/_generative_models.py:433: UserWarning: This feature is deprecated as of June 24, 2025 and will be removed on June 24, 2026. For details, see https://cloud.google.com/vertex-ai/generative-ai/docs/deprecations/genai-vertexai-sdk.\n",
            "  warning_logs.show_deprecation_warning()\n"
          ]
        }
      ]
    },
    {
      "cell_type": "code",
      "source": [
        "!gcloud auth application-default login\n",
        "!gcloud auth application-default set-quota-project apt-arcana-472403-u5\n",
        "\n",
        "from vertexai import init\n",
        "init(project=\"apt-arcana-472403-u5\", location=\"us-central1\")\n"
      ],
      "metadata": {
        "colab": {
          "base_uri": "https://localhost:8080/"
        },
        "id": "Xno0xDn8Fbfl",
        "outputId": "5e5e0b67-c1cf-4f7c-fb0c-891dbc91ccfd"
      },
      "execution_count": 8,
      "outputs": [
        {
          "output_type": "stream",
          "name": "stdout",
          "text": [
            "Go to the following link in your browser, and complete the sign-in prompts:\n",
            "\n",
            "    https://accounts.google.com/o/oauth2/auth?response_type=code&client_id=764086051850-6qr4p6gpi6hn506pt8ejuq83di341hur.apps.googleusercontent.com&redirect_uri=https%3A%2F%2Fsdk.cloud.google.com%2Fapplicationdefaultauthcode.html&scope=openid+https%3A%2F%2Fwww.googleapis.com%2Fauth%2Fuserinfo.email+https%3A%2F%2Fwww.googleapis.com%2Fauth%2Fcloud-platform+https%3A%2F%2Fwww.googleapis.com%2Fauth%2Fsqlservice.login&state=96ztHlaq0UoqTbcbNUSpKPqRkRLJeo&prompt=consent&token_usage=remote&access_type=offline&code_challenge=vqyv8bZwLpf205surZMA22O8cG7Ediy3YaajUkk5iTA&code_challenge_method=S256\n",
            "\n",
            "Once finished, enter the verification code provided in your browser: 4/0AVGzR1DjVq9-MaERoG7eO0p7oxhUPuzqxNMsIIASnKT0X5i4MATFw5ZIlv-AyZymY1_9aA\n",
            "\n",
            "Credentials saved to file: [/content/.config/application_default_credentials.json]\n",
            "\n",
            "These credentials will be used by any library that requests Application Default Credentials (ADC).\n",
            "\u001b[1;33mWARNING:\u001b[0m \n",
            "Cannot find a quota project to add to ADC. You might receive a \"quota exceeded\" or \"API not enabled\" error. Run $ gcloud auth application-default set-quota-project to add a quota project.\n",
            "\n",
            "Credentials saved to file: [/content/.config/application_default_credentials.json]\n",
            "\n",
            "These credentials will be used by any library that requests Application Default Credentials (ADC).\n",
            "\n",
            "Quota project \"apt-arcana-472403-u5\" was added to ADC which can be used by Google client libraries for billing and quota. Note that some services may still bill the project owning the resource.\n"
          ]
        }
      ]
    },
    {
      "cell_type": "code",
      "source": [
        "from google.auth import default\n",
        "from vertexai import init\n",
        "from vertexai.generative_models import GenerativeModel\n",
        "from google.cloud import bigquery\n",
        "\n",
        "# --- Configuración ---\n",
        "PROJECT_ID = \"apt-arcana-472403-u5\"\n",
        "REGION = \"us-central1\"\n",
        "\n",
        "# --- Cargar credenciales OAuth ---\n",
        "creds, _ = default()\n",
        "\n",
        "# --- Inicializar Vertex y BigQuery con credenciales explícitas ---\n",
        "init(project=PROJECT_ID, location=REGION, credentials=creds)\n",
        "bq = bigquery.Client(project=PROJECT_ID, credentials=creds)\n",
        "\n",
        "# --- Cargar modelo Gemini ---\n",
        "model = GenerativeModel(\"gemini-2.5-pro\")\n",
        "print(\"✅ Modelo gemini-2.5-pro cargado correctamente.\")\n",
        "\n",
        "# --- Prueba rápida ---\n",
        "texto_prueba = \"El presidente viajó a Buenos Aires para reunirse con líderes regionales.\"\n",
        "prompt = f\"Identifica el país mencionado o implícito en este texto. Devuelve solo el nombre del país:\\n{texto_prueba}\"\n",
        "\n",
        "respuesta = model.generate_content(prompt)\n",
        "print(\"🌎 Resultado de prueba:\", respuesta.text)\n"
      ],
      "metadata": {
        "colab": {
          "base_uri": "https://localhost:8080/"
        },
        "id": "ZQcTdTpLuoUI",
        "outputId": "6cc34799-60fe-43e7-a839-307cb1c5db34"
      },
      "execution_count": 12,
      "outputs": [
        {
          "output_type": "stream",
          "name": "stderr",
          "text": [
            "/usr/local/lib/python3.12/dist-packages/vertexai/generative_models/_generative_models.py:433: UserWarning: This feature is deprecated as of June 24, 2025 and will be removed on June 24, 2026. For details, see https://cloud.google.com/vertex-ai/generative-ai/docs/deprecations/genai-vertexai-sdk.\n",
            "  warning_logs.show_deprecation_warning()\n"
          ]
        },
        {
          "output_type": "stream",
          "name": "stdout",
          "text": [
            "✅ Modelo gemini-2.5-pro cargado correctamente.\n",
            "🌎 Resultado de prueba: Argentina\n"
          ]
        }
      ]
    },
    {
      "cell_type": "code",
      "source": [
        "query = \"\"\"\n",
        "SELECT\n",
        "P.ID_noticia,\n",
        "contenido,\n",
        "FROM (\n",
        "SELECT\n",
        "ID_noticia,\n",
        "contenido,\n",
        "JSON_VALUE(ubicacion, \"$.País\") AS pais_detectado,\n",
        "JSON_VALUE(ubicacion, \"$.Departamento\") AS departamento_detectado,\n",
        "JSON_VALUE(ubicacion, \"$.Municipio\") AS municipio_detectado,\n",
        "REGEXP_EXTRACT_ALL(tokens_detectados, r'\"([^\"]+)\":') AS token_keys,\n",
        "REGEXP_EXTRACT_ALL(tokens_detectados, r':\\s*([0-9]+)') AS token_vals\n",
        "FROM `apt-arcana-472403-u5.TFM.consolidado_periodicos`\n",
        ") as P,\n",
        "UNNEST(token_keys) AS key WITH OFFSET pos\n",
        "JOIN UNNEST(token_vals) AS val WITH OFFSET pos2\n",
        "ON pos = pos2\n",
        "where val != '0' and P.pais_detectado =\"\"\n",
        "GROUP BY 1,2\n",
        "\"\"\"\n",
        "df = bq.query(query).to_dataframe()\n",
        "print(df)\n"
      ],
      "metadata": {
        "colab": {
          "base_uri": "https://localhost:8080/"
        },
        "id": "1Pcr_ylqnPXC",
        "outputId": "c494d203-4105-4e0a-e1c7-631368eca960"
      },
      "execution_count": 13,
      "outputs": [
        {
          "output_type": "stream",
          "name": "stderr",
          "text": [
            "<>:13: SyntaxWarning: invalid escape sequence '\\s'\n",
            "<>:13: SyntaxWarning: invalid escape sequence '\\s'\n",
            "/tmp/ipython-input-3696624559.py:13: SyntaxWarning: invalid escape sequence '\\s'\n",
            "  REGEXP_EXTRACT_ALL(tokens_detectados, r':\\s*([0-9]+)') AS token_vals\n"
          ]
        },
        {
          "output_type": "stream",
          "name": "stdout",
          "text": [
            "                ID_noticia                                          contenido\n",
            "0      CO_20200903220241_0   A mediados de agosto, el periódicoVanguardiac...\n",
            "1      CO_20160216160728_0   Abuso de menores Meta, Quindío, Amazonas y Ri...\n",
            "2      CO_20210612092221_1   Acá encontrarás tus noticias de Revisa tu ban...\n",
            "3      CO_20211122232439_2   Acá encontrarás tus noticias de Revisa tu ban...\n",
            "4      CO_20220313232337_1   Acá encontrarás tus noticias de Revisa tu ban...\n",
            "...                    ...                                                ...\n",
            "1908  ESP_20190623204344_1  Las víctimas de violencia de género aumentaron...\n",
            "1909  ESP_20190613144832_1  Las víctimas de violencia de género aumentaron...\n",
            "1910  ESP_20190614075724_3  Las víctimas de violencia de género aumentaron...\n",
            "1911  ESP_20190628081418_5  Las víctimas de violencia de género aumentaron...\n",
            "1912  ESP_20190706110602_1  Las víctimas de violencia de género aumentaron...\n",
            "\n",
            "[1913 rows x 2 columns]\n"
          ]
        }
      ]
    },
    {
      "cell_type": "code",
      "source": [
        "def detectar_ubicacion_desagregada_gemini(texto):\n",
        "    if not texto or len(texto.strip()) == 0:\n",
        "        return {\n",
        "            \"pais\": \"DESCONOCIDO\",\n",
        "            \"departamento\": \"DESCONOCIDO\",\n",
        "            \"municipio\": \"DESCONOCIDO\"\n",
        "        }\n",
        "\n",
        "    prompt = f\"\"\"\n",
        "    Analiza el siguiente texto y determina la ubicación geográfica principal mencionada o implícita.\n",
        "\n",
        "    Devuelve solo los **nombres** en este formato exacto (sin explicaciones, sin comillas y separados por '|'):\n",
        "    País | Departamento / Comunidad Autónoma | Ciudad / Municipio\n",
        "\n",
        "    Si alguno no se puede identificar, escribe DESCONOCIDO.\n",
        "\n",
        "    Ejemplo de salida esperada:\n",
        "    Colombia | Antioquia | Medellín\n",
        "    España | Comunidad de Madrid | Madrid\n",
        "    México | Chihuahua | Ciudad Juárez\n",
        "    Chile | DESCONOCIDO | Santiago\n",
        "\n",
        "    Texto:\n",
        "    {texto}\n",
        "    \"\"\"\n",
        "\n",
        "    try:\n",
        "        respuesta = model.generate_content(prompt)\n",
        "        partes = [p.strip() for p in respuesta.text.split(\"|\")]\n",
        "        while len(partes) < 3:\n",
        "            partes.append(\"DESCONOCIDO\")\n",
        "\n",
        "        return {\n",
        "            \"pais\": partes[0].replace('\"', '').strip(),\n",
        "            \"departamento\": partes[1].replace('\"', '').strip(),\n",
        "            \"municipio\": partes[2].replace('\"', '').strip()\n",
        "        }\n",
        "    except Exception as e:\n",
        "        return {\n",
        "            \"pais\": f\"Error: {str(e)}\",\n",
        "            \"departamento\": \"DESCONOCIDO\",\n",
        "            \"municipio\": \"DESCONOCIDO\"\n",
        "        }\n"
      ],
      "metadata": {
        "id": "c6WOLjp7rZF1"
      },
      "execution_count": 14,
      "outputs": []
    },
    {
      "cell_type": "code",
      "source": [
        "import pandas as pd\n",
        "import time\n",
        "from google.cloud import bigquery\n",
        "\n",
        "# --- Configuración ---\n",
        "PROJECT_ID = \"apt-arcana-472403-u5\"\n",
        "DATASET_ID = \"TFM\"\n",
        "TABLE_ID = \"ubicaciones_noticias_gemini\"\n",
        "TABLE_REF = f\"{PROJECT_ID}.{DATASET_ID}.{TABLE_ID}\"\n",
        "\n",
        "bq_client = bigquery.Client(project=PROJECT_ID)\n",
        "\n",
        "# --- Esquema de la tabla ---\n",
        "schema = [\n",
        "    bigquery.SchemaField(\"ID_noticia\", \"STRING\"),\n",
        "    bigquery.SchemaField(\"contenido\", \"STRING\"),\n",
        "    bigquery.SchemaField(\"pais\", \"STRING\"),\n",
        "    bigquery.SchemaField(\"departamento\", \"STRING\"),\n",
        "    bigquery.SchemaField(\"municipio\", \"STRING\"),\n",
        "]\n",
        "\n",
        "# --- Crear tabla si no existe ---\n",
        "try:\n",
        "    bq_client.get_table(TABLE_REF)\n",
        "    print(f\"✅ La tabla ya existe: {TABLE_REF}\")\n",
        "except Exception:\n",
        "    table = bigquery.Table(TABLE_REF, schema=schema)\n",
        "    table = bq_client.create_table(table)\n",
        "    print(f\"🆕 Tabla creada: {TABLE_REF}\")\n",
        "\n",
        "# --- Función para insertar registros ---\n",
        "def insertar_en_bigquery(registro):\n",
        "    errors = bq_client.insert_rows_json(TABLE_REF, [registro])\n",
        "    if errors:\n",
        "        print(f\"⚠️ Error al insertar en BigQuery: {errors}\")\n",
        "\n",
        "# --- Procesamiento con progreso ---\n",
        "total = len(df)\n",
        "inicio = time.time()\n",
        "\n",
        "for i, row in df.iterrows():\n",
        "    try:\n",
        "        # 1️⃣ Llamar a Gemini\n",
        "        ubicacion = detectar_ubicacion_desagregada_gemini(row[\"contenido\"])\n",
        "\n",
        "        # 2️⃣ Crear registro\n",
        "        registro = {\n",
        "            \"ID_noticia\": str(row[\"ID_noticia\"]),\n",
        "            \"contenido\": row[\"contenido\"],\n",
        "            \"pais\": ubicacion.get(\"pais\"),\n",
        "            \"departamento\": ubicacion.get(\"departamento\"),\n",
        "            \"municipio\": ubicacion.get(\"municipio\"),\n",
        "        }\n",
        "\n",
        "        # 3️⃣ Insertar en BigQuery\n",
        "        insertar_en_bigquery(registro)\n",
        "\n",
        "        # 4️⃣ Mostrar progreso\n",
        "        if (i + 1) % 10 == 0 or i == total - 1:\n",
        "            elapsed = time.time() - inicio\n",
        "            print(f\"✅ {i+1}/{total} ({(i+1)/total:.1%}) completado — {elapsed:.1f}s\")\n",
        "\n",
        "    except Exception as e:\n",
        "        print(f\"❌ Error en línea {i+1}: {e}\")\n",
        "        continue\n"
      ],
      "metadata": {
        "colab": {
          "base_uri": "https://localhost:8080/"
        },
        "id": "a38LmDLPy8gL",
        "outputId": "77f70048-a4fd-4e3d-f1fc-c8f084847a38"
      },
      "execution_count": 15,
      "outputs": [
        {
          "output_type": "stream",
          "name": "stdout",
          "text": [
            "🆕 Tabla creada: apt-arcana-472403-u5.TFM.ubicaciones_noticias_gemini\n",
            "✅ 10/1913 (0.5%) completado — 177.7s\n",
            "✅ 20/1913 (1.0%) completado — 342.5s\n",
            "✅ 30/1913 (1.6%) completado — 487.9s\n",
            "✅ 40/1913 (2.1%) completado — 746.7s\n",
            "✅ 50/1913 (2.6%) completado — 925.1s\n",
            "✅ 60/1913 (3.1%) completado — 1043.2s\n",
            "✅ 70/1913 (3.7%) completado — 1174.3s\n",
            "✅ 80/1913 (4.2%) completado — 1317.0s\n",
            "✅ 90/1913 (4.7%) completado — 1469.7s\n",
            "✅ 100/1913 (5.2%) completado — 1668.6s\n",
            "✅ 110/1913 (5.8%) completado — 1863.3s\n",
            "✅ 120/1913 (6.3%) completado — 2035.8s\n",
            "✅ 130/1913 (6.8%) completado — 2118.2s\n",
            "✅ 140/1913 (7.3%) completado — 2219.8s\n",
            "✅ 150/1913 (7.8%) completado — 2332.7s\n",
            "✅ 160/1913 (8.4%) completado — 2557.7s\n",
            "✅ 170/1913 (8.9%) completado — 2727.7s\n",
            "✅ 180/1913 (9.4%) completado — 2885.8s\n",
            "✅ 190/1913 (9.9%) completado — 3023.0s\n",
            "✅ 200/1913 (10.5%) completado — 3116.9s\n",
            "✅ 210/1913 (11.0%) completado — 3266.1s\n",
            "✅ 220/1913 (11.5%) completado — 3482.7s\n",
            "✅ 230/1913 (12.0%) completado — 3718.6s\n",
            "✅ 240/1913 (12.5%) completado — 3882.8s\n",
            "✅ 250/1913 (13.1%) completado — 4055.1s\n",
            "✅ 260/1913 (13.6%) completado — 4177.7s\n",
            "✅ 270/1913 (14.1%) completado — 4254.4s\n",
            "✅ 280/1913 (14.6%) completado — 4331.4s\n",
            "✅ 290/1913 (15.2%) completado — 4438.3s\n",
            "✅ 300/1913 (15.7%) completado — 4662.2s\n",
            "✅ 310/1913 (16.2%) completado — 4793.6s\n",
            "✅ 320/1913 (16.7%) completado — 4908.5s\n",
            "✅ 330/1913 (17.3%) completado — 5027.0s\n",
            "✅ 340/1913 (17.8%) completado — 5153.3s\n",
            "✅ 350/1913 (18.3%) completado — 5286.1s\n",
            "✅ 360/1913 (18.8%) completado — 5388.0s\n",
            "✅ 370/1913 (19.3%) completado — 5463.4s\n",
            "✅ 380/1913 (19.9%) completado — 5579.7s\n",
            "✅ 390/1913 (20.4%) completado — 5681.0s\n",
            "✅ 400/1913 (20.9%) completado — 5845.7s\n",
            "✅ 410/1913 (21.4%) completado — 5989.0s\n",
            "✅ 420/1913 (22.0%) completado — 6224.2s\n",
            "✅ 430/1913 (22.5%) completado — 6376.7s\n",
            "✅ 440/1913 (23.0%) completado — 6478.7s\n",
            "✅ 450/1913 (23.5%) completado — 6583.2s\n",
            "✅ 460/1913 (24.0%) completado — 6722.2s\n",
            "✅ 470/1913 (24.6%) completado — 6922.1s\n",
            "✅ 480/1913 (25.1%) completado — 7109.7s\n",
            "✅ 490/1913 (25.6%) completado — 7228.1s\n",
            "✅ 500/1913 (26.1%) completado — 7350.5s\n",
            "✅ 510/1913 (26.7%) completado — 7447.8s\n",
            "✅ 520/1913 (27.2%) completado — 7555.0s\n",
            "✅ 530/1913 (27.7%) completado — 7692.5s\n",
            "✅ 540/1913 (28.2%) completado — 7858.3s\n",
            "✅ 550/1913 (28.8%) completado — 8007.6s\n",
            "✅ 560/1913 (29.3%) completado — 8132.6s\n",
            "✅ 570/1913 (29.8%) completado — 8280.0s\n",
            "✅ 580/1913 (30.3%) completado — 8412.7s\n",
            "✅ 590/1913 (30.8%) completado — 8546.7s\n",
            "✅ 600/1913 (31.4%) completado — 8654.5s\n",
            "✅ 610/1913 (31.9%) completado — 8749.0s\n",
            "✅ 620/1913 (32.4%) completado — 8840.9s\n",
            "✅ 630/1913 (32.9%) completado — 8939.4s\n",
            "✅ 640/1913 (33.5%) completado — 9041.9s\n",
            "✅ 650/1913 (34.0%) completado — 9206.0s\n",
            "✅ 660/1913 (34.5%) completado — 9324.4s\n",
            "✅ 670/1913 (35.0%) completado — 9451.3s\n",
            "✅ 680/1913 (35.5%) completado — 9577.0s\n",
            "✅ 690/1913 (36.1%) completado — 9669.1s\n",
            "✅ 700/1913 (36.6%) completado — 9752.6s\n",
            "✅ 710/1913 (37.1%) completado — 9959.0s\n",
            "✅ 720/1913 (37.6%) completado — 10163.2s\n",
            "✅ 730/1913 (38.2%) completado — 10283.1s\n",
            "✅ 740/1913 (38.7%) completado — 10365.0s\n",
            "✅ 750/1913 (39.2%) completado — 10536.2s\n",
            "✅ 760/1913 (39.7%) completado — 10763.1s\n",
            "✅ 770/1913 (40.3%) completado — 10909.7s\n",
            "✅ 780/1913 (40.8%) completado — 10971.1s\n",
            "✅ 790/1913 (41.3%) completado — 11030.8s\n",
            "✅ 800/1913 (41.8%) completado — 11090.6s\n",
            "✅ 810/1913 (42.3%) completado — 11158.2s\n",
            "✅ 820/1913 (42.9%) completado — 11238.1s\n",
            "✅ 830/1913 (43.4%) completado — 11329.3s\n",
            "✅ 840/1913 (43.9%) completado — 11428.3s\n",
            "✅ 850/1913 (44.4%) completado — 11515.9s\n",
            "✅ 860/1913 (45.0%) completado — 11586.3s\n",
            "✅ 870/1913 (45.5%) completado — 11678.8s\n",
            "✅ 880/1913 (46.0%) completado — 11762.5s\n",
            "✅ 890/1913 (46.5%) completado — 11847.4s\n",
            "✅ 900/1913 (47.0%) completado — 11930.8s\n",
            "✅ 910/1913 (47.6%) completado — 12009.8s\n",
            "✅ 920/1913 (48.1%) completado — 12123.0s\n",
            "✅ 930/1913 (48.6%) completado — 12221.6s\n",
            "✅ 940/1913 (49.1%) completado — 12319.9s\n",
            "✅ 950/1913 (49.7%) completado — 12443.1s\n",
            "✅ 960/1913 (50.2%) completado — 12542.0s\n",
            "✅ 970/1913 (50.7%) completado — 12681.6s\n",
            "✅ 980/1913 (51.2%) completado — 12855.6s\n",
            "✅ 990/1913 (51.8%) completado — 12994.5s\n",
            "✅ 1000/1913 (52.3%) completado — 13113.5s\n",
            "✅ 1010/1913 (52.8%) completado — 13241.0s\n",
            "✅ 1020/1913 (53.3%) completado — 13313.6s\n",
            "✅ 1030/1913 (53.8%) completado — 13381.0s\n",
            "✅ 1040/1913 (54.4%) completado — 13462.4s\n",
            "✅ 1050/1913 (54.9%) completado — 13561.0s\n",
            "✅ 1060/1913 (55.4%) completado — 13675.2s\n",
            "✅ 1070/1913 (55.9%) completado — 13766.2s\n",
            "✅ 1080/1913 (56.5%) completado — 13882.8s\n",
            "✅ 1090/1913 (57.0%) completado — 14005.0s\n",
            "✅ 1100/1913 (57.5%) completado — 14164.7s\n",
            "✅ 1110/1913 (58.0%) completado — 14287.0s\n",
            "✅ 1120/1913 (58.5%) completado — 14405.4s\n",
            "✅ 1130/1913 (59.1%) completado — 14558.4s\n",
            "✅ 1140/1913 (59.6%) completado — 14716.8s\n",
            "✅ 1150/1913 (60.1%) completado — 14905.4s\n",
            "✅ 1160/1913 (60.6%) completado — 15120.0s\n",
            "✅ 1170/1913 (61.2%) completado — 15390.6s\n",
            "✅ 1180/1913 (61.7%) completado — 15487.7s\n",
            "✅ 1190/1913 (62.2%) completado — 15579.4s\n",
            "✅ 1200/1913 (62.7%) completado — 15654.5s\n",
            "✅ 1210/1913 (63.3%) completado — 15733.6s\n",
            "✅ 1220/1913 (63.8%) completado — 15807.4s\n",
            "✅ 1230/1913 (64.3%) completado — 15900.4s\n",
            "✅ 1240/1913 (64.8%) completado — 16064.2s\n",
            "✅ 1250/1913 (65.3%) completado — 16244.4s\n",
            "✅ 1260/1913 (65.9%) completado — 16432.4s\n",
            "✅ 1270/1913 (66.4%) completado — 16641.0s\n",
            "✅ 1280/1913 (66.9%) completado — 16764.5s\n",
            "✅ 1290/1913 (67.4%) completado — 16874.6s\n",
            "✅ 1300/1913 (68.0%) completado — 16969.9s\n",
            "✅ 1310/1913 (68.5%) completado — 17092.3s\n",
            "✅ 1320/1913 (69.0%) completado — 17221.5s\n",
            "✅ 1330/1913 (69.5%) completado — 17347.6s\n",
            "✅ 1340/1913 (70.0%) completado — 17424.5s\n",
            "✅ 1350/1913 (70.6%) completado — 17563.1s\n",
            "✅ 1360/1913 (71.1%) completado — 17704.2s\n",
            "✅ 1370/1913 (71.6%) completado — 17814.4s\n",
            "✅ 1380/1913 (72.1%) completado — 17914.8s\n",
            "✅ 1390/1913 (72.7%) completado — 18007.8s\n",
            "✅ 1400/1913 (73.2%) completado — 18114.2s\n",
            "✅ 1410/1913 (73.7%) completado — 18267.9s\n",
            "✅ 1420/1913 (74.2%) completado — 18394.8s\n",
            "✅ 1430/1913 (74.8%) completado — 18500.2s\n",
            "✅ 1440/1913 (75.3%) completado — 18616.9s\n",
            "✅ 1450/1913 (75.8%) completado — 18827.0s\n",
            "✅ 1460/1913 (76.3%) completado — 18993.3s\n",
            "✅ 1470/1913 (76.8%) completado — 19177.0s\n",
            "✅ 1480/1913 (77.4%) completado — 19352.9s\n",
            "✅ 1490/1913 (77.9%) completado — 19527.0s\n",
            "✅ 1500/1913 (78.4%) completado — 19692.4s\n",
            "✅ 1510/1913 (78.9%) completado — 19820.1s\n",
            "✅ 1520/1913 (79.5%) completado — 19959.7s\n",
            "✅ 1530/1913 (80.0%) completado — 20117.3s\n",
            "✅ 1540/1913 (80.5%) completado — 20237.1s\n",
            "✅ 1550/1913 (81.0%) completado — 20393.3s\n",
            "✅ 1560/1913 (81.5%) completado — 20504.7s\n",
            "✅ 1570/1913 (82.1%) completado — 20613.9s\n",
            "✅ 1580/1913 (82.6%) completado — 20722.9s\n",
            "✅ 1590/1913 (83.1%) completado — 20859.8s\n",
            "✅ 1600/1913 (83.6%) completado — 20957.3s\n",
            "✅ 1610/1913 (84.2%) completado — 21031.9s\n",
            "✅ 1620/1913 (84.7%) completado — 21114.5s\n",
            "✅ 1630/1913 (85.2%) completado — 21187.3s\n",
            "✅ 1640/1913 (85.7%) completado — 21286.3s\n",
            "✅ 1650/1913 (86.3%) completado — 21397.9s\n",
            "✅ 1660/1913 (86.8%) completado — 21527.1s\n",
            "✅ 1670/1913 (87.3%) completado — 21619.8s\n",
            "✅ 1680/1913 (87.8%) completado — 21742.6s\n",
            "✅ 1690/1913 (88.3%) completado — 21849.1s\n",
            "✅ 1700/1913 (88.9%) completado — 21965.4s\n",
            "✅ 1710/1913 (89.4%) completado — 22090.1s\n",
            "✅ 1720/1913 (89.9%) completado — 22260.6s\n",
            "✅ 1730/1913 (90.4%) completado — 22357.1s\n",
            "✅ 1740/1913 (91.0%) completado — 22449.6s\n",
            "✅ 1750/1913 (91.5%) completado — 22563.4s\n",
            "✅ 1760/1913 (92.0%) completado — 22688.5s\n",
            "✅ 1770/1913 (92.5%) completado — 22832.5s\n",
            "✅ 1780/1913 (93.0%) completado — 22983.5s\n",
            "✅ 1790/1913 (93.6%) completado — 23127.7s\n",
            "✅ 1800/1913 (94.1%) completado — 23209.6s\n",
            "✅ 1810/1913 (94.6%) completado — 23289.2s\n",
            "✅ 1820/1913 (95.1%) completado — 23385.1s\n",
            "✅ 1830/1913 (95.7%) completado — 23509.6s\n",
            "✅ 1840/1913 (96.2%) completado — 23635.8s\n",
            "✅ 1850/1913 (96.7%) completado — 23742.2s\n",
            "✅ 1860/1913 (97.2%) completado — 23864.6s\n",
            "✅ 1870/1913 (97.8%) completado — 23928.3s\n",
            "✅ 1880/1913 (98.3%) completado — 24011.6s\n",
            "✅ 1890/1913 (98.8%) completado — 24100.2s\n",
            "✅ 1900/1913 (99.3%) completado — 24186.6s\n",
            "✅ 1910/1913 (99.8%) completado — 24266.9s\n",
            "✅ 1913/1913 (100.0%) completado — 24297.6s\n"
          ]
        }
      ]
    },
    {
      "cell_type": "code",
      "source": [
        "# ==========================================\n",
        "# 🔹 GUARDAR RESULTADOS DE GEMINI EN BIGQUERY\n",
        "# ==========================================\n",
        "\n",
        "from google.cloud import bigquery\n",
        "import pandas as pd\n",
        "\n",
        "# Parámetros\n",
        "PROJECT_ID = \"apt-arcana-472403-u5\"\n",
        "DATASET = \"TFM\"\n",
        "TABLE_NAME = \"lugares_detectados_gemini\"\n",
        "DESTINATION = f\"{DATASET}.{TABLE_NAME}\"\n",
        "\n",
        "# Guardar DataFrame en BigQuery\n",
        "df.to_gbq(destination_table=DESTINATION, project_id=PROJECT_ID, if_exists=\"replace\")\n",
        "\n",
        "# Confirmar carga\n",
        "bq = bigquery.Client(project=PROJECT_ID)\n",
        "query = f\"SELECT COUNT(*) AS total_filas FROM `{PROJECT_ID}.{DESTINATION}`\"\n",
        "total = bq.query(query).to_dataframe().iloc[0, 0]\n",
        "print(f\"✅ Tabla '{DESTINATION}' creada correctamente con {total} filas.\")\n"
      ],
      "metadata": {
        "colab": {
          "base_uri": "https://localhost:8080/"
        },
        "id": "t52wA38F2R3r",
        "outputId": "d6091f38-e944-418e-cb4d-0ce6e0c0a6d3"
      },
      "execution_count": null,
      "outputs": [
        {
          "output_type": "stream",
          "name": "stderr",
          "text": [
            "/tmp/ipython-input-3689747778.py:15: FutureWarning: to_gbq is deprecated and will be removed in a future version. Please use pandas_gbq.to_gbq instead: https://pandas-gbq.readthedocs.io/en/latest/api.html#pandas_gbq.to_gbq\n",
            "  df.to_gbq(destination_table=DESTINATION, project_id=PROJECT_ID, if_exists=\"replace\")\n",
            "100%|██████████| 1/1 [00:00<00:00, 9300.01it/s]\n"
          ]
        },
        {
          "output_type": "stream",
          "name": "stdout",
          "text": [
            "✅ Tabla 'TFM.lugares_detectados_gemini' creada correctamente con 10 filas.\n"
          ]
        }
      ]
    }
  ]
}